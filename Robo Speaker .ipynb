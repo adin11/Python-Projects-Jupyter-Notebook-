{
 "cells": [
  {
   "cell_type": "code",
   "execution_count": 4,
   "id": "acff147c",
   "metadata": {},
   "outputs": [
    {
     "name": "stdout",
     "output_type": "stream",
     "text": [
      "Enter the text you want the robot to speak: nazma bhabhi se darti hai \n"
     ]
    }
   ],
   "source": [
    "import pyttsx3\n",
    "\n",
    "def speak(text):\n",
    "    # Initialize the TTS engine\n",
    "    engine = pyttsx3.init()\n",
    "\n",
    "    # Set properties (optional)\n",
    "    # You can customize the voice, rate, volume, etc.\n",
    "    engine.setProperty('rate', 150)  # Speed of speech\n",
    "    engine.setProperty('volume', 1.0)  # Volume (0.0 to 1.0)\n",
    "\n",
    "    # Speak the text\n",
    "    engine.say(text)\n",
    "\n",
    "    # Blocks while processing all the currently queued commands\n",
    "    engine.runAndWait()\n",
    "\n",
    "if __name__ == \"__main__\":\n",
    "    # Example usage\n",
    "    text_to_speak = input(\"Enter the text you want the robot to speak: \")\n",
    "    speak(text_to_speak)\n"
   ]
  },
  {
   "cell_type": "code",
   "execution_count": 7,
   "id": "a3fb2b55",
   "metadata": {},
   "outputs": [
    {
     "name": "stdout",
     "output_type": "stream",
     "text": [
      "Hey Welcome To My Robo Speaker\n",
      "Enter Your Text: hey\n"
     ]
    }
   ],
   "source": [
    "import pyttsx3\n",
    "print(\"Hey Welcome To My Robo Speaker\")\n",
    "    \n",
    "while True:\n",
    "\n",
    "    engine = pyttsx3.init()\n",
    "\n",
    "    text = input(\"Enter Your Text: \")\n",
    "    if text.isdigit() == True:\n",
    "        print(\"Enter a Proper String Which You want to hear\")\n",
    "        continue\n",
    "\n",
    "    else:\n",
    "        engine.setProperty('rate', 150)  # Speed of speech\n",
    "        engine.setProperty('volume', 1.0)  # Volume (0.0 to 1.0)\n",
    "        engine.say(text)\n",
    "        engine.runAndWait()\n",
    "        break\n"
   ]
  },
  {
   "cell_type": "code",
   "execution_count": 8,
   "id": "1b5f5dd0",
   "metadata": {},
   "outputs": [
    {
     "name": "stdout",
     "output_type": "stream",
     "text": [
      "Enter the City: Mumbai\n",
      "The Temperature in Mumbai is 33.0\n"
     ]
    }
   ],
   "source": [
    "import requests\n",
    "import json\n",
    "import pyttsx3\n",
    "\n",
    "\n",
    "user_input = input(\"Enter the City: \")\n",
    "\n",
    "res = requests.get(f\"http://api.weatherapi.com/v1/current.json?key=75cfd41788c34b9fa4172231241202&q={user_input}\")\n",
    "#print(res.text)\n",
    "dict_W = json.loads(res.text) # this is used to convert this text data into a dictionary key value pairs like object:\n",
    "\n",
    "#print(dict_W['current']['temp_c'])\n",
    "x = dict_W['current']['temp_c']\n",
    "\n",
    "speak = f\"The Temperatur in {user_input} is {x} degrees Celcius:\"\n",
    "print(f'The Temperature in {user_input} is {x}')\n",
    "\n",
    "\n",
    "\n",
    "engine = pyttsx3.init()\n",
    "\n",
    "                 \n",
    "engine.setProperty('rate', 150)  # Speed of speech\n",
    "engine.setProperty('volume', 1.0)  # Volume (0.0 to 1.0)\n",
    "engine.say(speak)\n",
    "engine.runAndWait()\n"
   ]
  },
  {
   "cell_type": "code",
   "execution_count": null,
   "id": "cc82c96f",
   "metadata": {},
   "outputs": [],
   "source": []
  }
 ],
 "metadata": {
  "kernelspec": {
   "display_name": "Python 3 (ipykernel)",
   "language": "python",
   "name": "python3"
  },
  "language_info": {
   "codemirror_mode": {
    "name": "ipython",
    "version": 3
   },
   "file_extension": ".py",
   "mimetype": "text/x-python",
   "name": "python",
   "nbconvert_exporter": "python",
   "pygments_lexer": "ipython3",
   "version": "3.11.5"
  }
 },
 "nbformat": 4,
 "nbformat_minor": 5
}
