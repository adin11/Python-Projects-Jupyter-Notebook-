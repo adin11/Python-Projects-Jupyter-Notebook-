{
 "cells": [
  {
   "cell_type": "code",
   "execution_count": null,
   "id": "05ac650c",
   "metadata": {},
   "outputs": [],
   "source": []
  },
  {
   "cell_type": "code",
   "execution_count": 6,
   "id": "59ab3d1d",
   "metadata": {},
   "outputs": [
    {
     "name": "stdout",
     "output_type": "stream",
     "text": [
      "Enter the YouTube URL: https://youtu.be/akxpn2dBN5Q?si=lob37_n7LVA4a2jh\n",
      "Title: Are Arsenal Better Than Last Season?\n",
      "Views: 14497\n",
      "Download complete.\n"
     ]
    }
   ],
   "source": [
    "from pytube import YouTube\n",
    "#import os\n",
    "\n",
    "try:\n",
    "    # Ask the user to input the YouTube URL\n",
    "    url = input(\"Enter the YouTube URL: \")\n",
    "    \n",
    "    yt = YouTube(url)\n",
    "    \n",
    "    print(\"Title:\", yt.title)\n",
    "    print(\"Views:\", yt.views)\n",
    "\n",
    "    # Get the highest resolution stream\n",
    "    yd = yt.streams.get_highest_resolution()\n",
    "    \n",
    "    \n",
    "    # Define the download path\n",
    "    download_path = r\"C:\\Users\\adinr\\Downloads\"  # Adjust the path as needed\n",
    "\n",
    "    # Download the video to the current directory\n",
    "    yd.download(download_path)\n",
    "    \n",
    "    print(\"Download complete.\")\n",
    "except Exception as e:\n",
    "    print(\"An error occurred:\", e)\n"
   ]
  },
  {
   "cell_type": "code",
   "execution_count": null,
   "id": "1f38c0f8",
   "metadata": {},
   "outputs": [],
   "source": []
  },
  {
   "cell_type": "code",
   "execution_count": null,
   "id": "05555890",
   "metadata": {},
   "outputs": [],
   "source": []
  }
 ],
 "metadata": {
  "kernelspec": {
   "display_name": "Python 3 (ipykernel)",
   "language": "python",
   "name": "python3"
  },
  "language_info": {
   "codemirror_mode": {
    "name": "ipython",
    "version": 3
   },
   "file_extension": ".py",
   "mimetype": "text/x-python",
   "name": "python",
   "nbconvert_exporter": "python",
   "pygments_lexer": "ipython3",
   "version": "3.11.5"
  }
 },
 "nbformat": 4,
 "nbformat_minor": 5
}
