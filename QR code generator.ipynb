{
 "cells": [
  {
   "cell_type": "code",
   "execution_count": 1,
   "id": "3842c43a",
   "metadata": {},
   "outputs": [
    {
     "name": "stdout",
     "output_type": "stream",
     "text": [
      "QR code generated successfully!\n"
     ]
    }
   ],
   "source": [
    "import qrcode as qr\n",
    "\n",
    "# Create a QR code for the given URL\n",
    "url = \"https://youtu.be/o_ifOAcnKvo?si=OaEMofZ61fy0GGKv\"\n",
    "qr_img = qr.make(url)\n",
    "\n",
    "# Save the QR code as an image file\n",
    "qr_img.save(\"thumbnail.png\")\n",
    "\n",
    "print(\"QR code generated successfully!\")\n"
   ]
  },
  {
   "cell_type": "code",
   "execution_count": null,
   "id": "4257938d",
   "metadata": {},
   "outputs": [],
   "source": []
  }
 ],
 "metadata": {
  "kernelspec": {
   "display_name": "Python 3 (ipykernel)",
   "language": "python",
   "name": "python3"
  },
  "language_info": {
   "codemirror_mode": {
    "name": "ipython",
    "version": 3
   },
   "file_extension": ".py",
   "mimetype": "text/x-python",
   "name": "python",
   "nbconvert_exporter": "python",
   "pygments_lexer": "ipython3",
   "version": "3.11.5"
  }
 },
 "nbformat": 4,
 "nbformat_minor": 5
}
