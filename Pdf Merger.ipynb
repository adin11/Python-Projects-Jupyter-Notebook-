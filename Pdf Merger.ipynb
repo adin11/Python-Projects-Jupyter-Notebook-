{
 "cells": [
  {
   "cell_type": "code",
   "execution_count": 3,
   "id": "ae5ef70e",
   "metadata": {},
   "outputs": [],
   "source": [
    "import PyPDF2\n",
    "\n",
    "merger = PyPDF2.PdfMerger()\n",
    "pdffiles = ['1.pdf','2.pdf','3.pdf']\n",
    "\n",
    "\n",
    "for file in pdffiles:\n",
    "    pdffile= open(file,'rb')\n",
    "    reader_object = PyPDF2.PdfReader(pdffile)\n",
    "    merger.append(reader_object)\n",
    "\n",
    "pdffile.close()\n",
    "merger.write(\"Merged Pdf\")\n",
    "    \n"
   ]
  },
  {
   "cell_type": "code",
   "execution_count": null,
   "id": "57a297c8",
   "metadata": {},
   "outputs": [],
   "source": []
  }
 ],
 "metadata": {
  "kernelspec": {
   "display_name": "Python 3 (ipykernel)",
   "language": "python",
   "name": "python3"
  },
  "language_info": {
   "codemirror_mode": {
    "name": "ipython",
    "version": 3
   },
   "file_extension": ".py",
   "mimetype": "text/x-python",
   "name": "python",
   "nbconvert_exporter": "python",
   "pygments_lexer": "ipython3",
   "version": "3.11.5"
  }
 },
 "nbformat": 4,
 "nbformat_minor": 5
}
