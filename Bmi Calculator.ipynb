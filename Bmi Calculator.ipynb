{
 "cells": [
  {
   "cell_type": "code",
   "execution_count": 1,
   "id": "d3390ba6",
   "metadata": {},
   "outputs": [],
   "source": [
    "def bmi_check():\n",
    "    print(\"Calculate your Bmi , By giving us the following Details\")\n",
    "    \n",
    "    while True:\n",
    "        \n",
    "        user_name = input(\"Enter your Name:   \")\n",
    "        user_weight = int(input(\"Enter Your Weight in ('Pounds'):   \"))\n",
    "        user_height= int(input(\"Enter Your Height in ('Inches'):    \"))\n",
    "        \n",
    "        bmi = (user_weight * 703) / (user_height * user_height) \n",
    "        print(f'Your Bmi is {bmi}' )\n",
    "        break\n",
    "        \n",
    "        #Under 18.5\tUnderweight\tMinimal\n",
    "        # 18.5 - 24.9\tNormal Weight\tMinimal\n",
    "        # 25 - 29.9\tOverweight\tIncreased\n",
    "        # 30 - 34.9\tObese\tHigh\n",
    "        # 35 - 39.9\tSeverely Obese\tVery High\n",
    "        # 40 and over\tMorbidly Obese\tExtremely High\n",
    "        \n",
    "        \n",
    "    if bmi < 18.5 :    \n",
    "        print(f\"{user_name}, You are Underweight\")\n",
    "        \n",
    "    elif bmi > 18.5 and bmi < 24.9:\n",
    "        print(f\"{user_name}, You are At Nomal Weight\")\n",
    "        \n",
    "    elif bmi > 25 and bmi < 29.9:\n",
    "        print(f\"{user_name}, You are Overweight\")\n",
    "        \n",
    "    elif bmi > 30 and bmi < 34.9:\n",
    "        print(f\"{user_name}, You are Obese\")\n",
    "        \n",
    "    elif bmi > 35 and bmi < 39.9:\n",
    "        print(f\"{user_name}, You are Severly Obese\")\n",
    "        \n",
    "    elif bmi > 40 :\n",
    "        print(f\"{user_name}, You are Extremely Obese\")\n",
    "        \n",
    "        \n",
    "    else:\n",
    "        print(\"Enter A valid input\")\n",
    "            \n",
    "        \n",
    "        \n",
    "        "
   ]
  },
  {
   "cell_type": "code",
   "execution_count": 2,
   "id": "af70213d",
   "metadata": {
    "scrolled": true
   },
   "outputs": [
    {
     "name": "stdout",
     "output_type": "stream",
     "text": [
      "Calculate your Bmi , By giving us the following Details\n",
      "Enter your Name:   Adin\n",
      "Enter Your Weight in ('Pounds'):   168\n",
      "Enter Your Height in ('Inches'):    55\n",
      "Your Bmi is 39.042644628099175\n",
      "Adin, You are Severly Obese\n"
     ]
    }
   ],
   "source": [
    "bmi_check()"
   ]
  },
  {
   "cell_type": "code",
   "execution_count": null,
   "id": "936b55cd",
   "metadata": {},
   "outputs": [],
   "source": []
  }
 ],
 "metadata": {
  "kernelspec": {
   "display_name": "Python 3 (ipykernel)",
   "language": "python",
   "name": "python3"
  },
  "language_info": {
   "codemirror_mode": {
    "name": "ipython",
    "version": 3
   },
   "file_extension": ".py",
   "mimetype": "text/x-python",
   "name": "python",
   "nbconvert_exporter": "python",
   "pygments_lexer": "ipython3",
   "version": "3.11.5"
  }
 },
 "nbformat": 4,
 "nbformat_minor": 5
}
