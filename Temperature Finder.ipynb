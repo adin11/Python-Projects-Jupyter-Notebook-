{
 "cells": [
  {
   "cell_type": "code",
   "execution_count": null,
   "id": "6600f8ce",
   "metadata": {},
   "outputs": [],
   "source": [
    "# Api key = 75cfd41788c34b9fa4172231241202\n",
    "# Api Site = http://api.weatherapi.com/v1/current.json?key=75cfd41788c34b9fa4172231241202&q=mumbai"
   ]
  },
  {
   "cell_type": "code",
   "execution_count": 8,
   "id": "11dea288",
   "metadata": {},
   "outputs": [
    {
     "name": "stdout",
     "output_type": "stream",
     "text": [
      "Hey welcome to my Weather App \n",
      "Enter the City: Mumbai\n",
      "34.0\n"
     ]
    }
   ],
   "source": [
    "print(\"Hey welcome to my Weather App \")\n",
    "\n",
    "import requests\n",
    "import json\n",
    "\n",
    "user_input = input(\"Enter the City: \")\n",
    "\n",
    "res = requests.get(f\"http://api.weatherapi.com/v1/current.json?key=75cfd41788c34b9fa4172231241202&q={user_input}\")\n",
    "#print(res.text)\n",
    "dict_W = json.loads(res.text) # this is used to convert this text data into a dictionary key value pairs like object:\n",
    "\n",
    "print(dict_W['current']['temp_c'])\n",
    "\n",
    "# We can also do this in try catch block of code \n"
   ]
  },
  {
   "cell_type": "code",
   "execution_count": null,
   "id": "e3aafb9f",
   "metadata": {},
   "outputs": [],
   "source": []
  }
 ],
 "metadata": {
  "kernelspec": {
   "display_name": "Python 3 (ipykernel)",
   "language": "python",
   "name": "python3"
  },
  "language_info": {
   "codemirror_mode": {
    "name": "ipython",
    "version": 3
   },
   "file_extension": ".py",
   "mimetype": "text/x-python",
   "name": "python",
   "nbconvert_exporter": "python",
   "pygments_lexer": "ipython3",
   "version": "3.11.5"
  }
 },
 "nbformat": 4,
 "nbformat_minor": 5
}
