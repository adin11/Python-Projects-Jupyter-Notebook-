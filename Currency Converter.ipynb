{
 "cells": [
  {
   "cell_type": "code",
   "execution_count": null,
   "id": "1e174ea1",
   "metadata": {},
   "outputs": [],
   "source": []
  },
  {
   "cell_type": "code",
   "execution_count": null,
   "id": "40a1d200",
   "metadata": {},
   "outputs": [],
   "source": [
    "import requests\n",
    "\n",
    "# Grabbing The USer Input\n",
    "amount = float(input(\"Enter the Amount You want to convert:  \"))\n",
    "from_code = input(\" Enter The three-letter currency code of the currency you would like to convert from:  \").upper()\n",
    "to_code = input(\"The three-letter currency code of the currency you would like to convert to:  \").upper()\n",
    "\n",
    "# Getting the Url and apikey for cancatinating to send req fro conversion\n",
    "url = f\"https://api.apilayer.com/currency_data/convert?to={to_code}&from={from_code}&amount={amount}\"\n",
    "payload = {}\n",
    "headers= {\n",
    "  \"apikey\": \"JI2RGHb6O1B8HeODnmZDlvMHNM6O9Cyt\"\n",
    "}\n",
    "\n",
    "# Request sent after concatinating url with api key as endpoint\n",
    "\n",
    "res = requests.get( url, headers=headers, data = payload)\n",
    "data = res.json() \n",
    "#Converted to Json Format because it is easier to see the key value pairs from the response data after the request is sent\n",
    "\n",
    "print(data)\n",
    "# Printing the Json data is essential for finding out the keys so tht we can grab those keys which help in printing.\n",
    "\n",
    "#Conditiong for checking the Connection\n",
    "if res.status_code == 200:\n",
    "    #Grabbing the keys from the json data to Show the Conversion.\n",
    "    \n",
    "    from_ = data['query']['from']\n",
    "    to_ = data['query']['to']\n",
    "    amount_ = data['query']['amount']\n",
    "    results_ = data['result']\n",
    "    \n",
    "    print(f'The Amount: {amount_} from {from_} to {to_} is equal to [{results_}] {to_}\\n')\n",
    "    \n",
    "else:\n",
    "    print(\"Conversion failed.\")\n",
    "    \n"
   ]
  },
  {
   "cell_type": "code",
   "execution_count": null,
   "id": "5246d1b1",
   "metadata": {},
   "outputs": [],
   "source": []
  },
  {
   "cell_type": "code",
   "execution_count": null,
   "id": "b2eb44ff",
   "metadata": {},
   "outputs": [],
   "source": [
    "import requests\n",
    "\n",
    "# Grabbing The User Input\n",
    "amount = float(input(\"Enter the Amount You want to convert: \"))\n",
    "from_code = input(\"Enter The three-letter currency code of the currency you would like to convert from: \").upper()\n",
    "to_code = input(\"The three-letter currency code of the currency you would like to convert to: \").upper()\n",
    "\n",
    "url = f\"https://free.currconv.com/api/v7/convert?q={from_code}_{to_code}&compact=ultra&apiKey=JI2RGHb6O1B8HeODnmZDlvMHNM6O9Cyt\"\n",
    "\n",
    "# Replace 'YOUR_API_KEY' with your actual API key obtained from currencyconverterapi.com\n",
    "\n",
    "res = requests.get(url)\n",
    "data = res.json()\n",
    "\n",
    "if res.status_code == 200:\n",
    "    conversion_rate = data[f\"{from_code}_{to_code}\"]\n",
    "    converted_amount = amount * conversion_rate\n",
    "    print(f\"{amount} {from_code} is equal to {converted_amount:.2f} {to_code}\")\n",
    "else:\n",
    "    print(\"Conversion failed.\")\n"
   ]
  }
 ],
 "metadata": {
  "kernelspec": {
   "display_name": "Python 3 (ipykernel)",
   "language": "python",
   "name": "python3"
  },
  "language_info": {
   "codemirror_mode": {
    "name": "ipython",
    "version": 3
   },
   "file_extension": ".py",
   "mimetype": "text/x-python",
   "name": "python",
   "nbconvert_exporter": "python",
   "pygments_lexer": "ipython3",
   "version": "3.11.5"
  }
 },
 "nbformat": 4,
 "nbformat_minor": 5
}
